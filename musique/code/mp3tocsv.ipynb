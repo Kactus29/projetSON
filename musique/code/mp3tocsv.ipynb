{
 "cells": [
  {
   "cell_type": "code",
   "execution_count": 1,
   "metadata": {},
   "outputs": [
    {
     "name": "stdout",
     "output_type": "stream",
     "text": [
      "Traitement de ClairDeLune.mp3...\n",
      "Fichier sauvegardé : ClairDeLune.csv\n",
      "Traitement de CuteBaby.mp3...\n",
      "Fichier sauvegardé : CuteBaby.csv\n",
      "Traitement de GoodDay.mp3...\n",
      "Fichier sauvegardé : GoodDay.csv\n",
      "Traitement de HappyBirthday.mp3...\n",
      "Fichier sauvegardé : HappyBirthday.csv\n",
      "Traitement de JingleBellsJazz.mp3...\n",
      "Fichier sauvegardé : JingleBellsJazz.csv\n"
     ]
    }
   ],
   "source": [
    "import os\n",
    "import numpy as np\n",
    "import pandas as pd\n",
    "import torchaudio\n",
    "\n",
    "def extract_frequencies(mp3_file, hop_length_ms=100):\n",
    "    \"\"\"\n",
    "    Extrait la fréquence dominante toutes les 10ms d'un fichier MP3 en utilisant numpy.fft\n",
    "    \"\"\"\n",
    "    # Charger le fichier audio avec torchaudio\n",
    "    waveform, sr = torchaudio.load(mp3_file)\n",
    "    \n",
    "    # Convertir en tableau numpy\n",
    "    y = waveform.numpy().flatten()\n",
    "    \n",
    "    # Calcul du hop_length basé sur la fréquence d'échantillonnage\n",
    "    hop_length = int(sr * hop_length_ms / 1000)  # hop_length en échantillons\n",
    "    \n",
    "    # Taille de la fenêtre pour la FFT (choisir une taille qui est une puissance de 2 pour une FFT plus rapide)\n",
    "    window_size = 2048  # Taille de la fenêtre FFT\n",
    "    \n",
    "    # Nombre d'échantillons totaux\n",
    "    total_samples = len(y)\n",
    "    \n",
    "    # Liste pour stocker les fréquences dominantes\n",
    "    dominant_freqs = []\n",
    "    \n",
    "    # Parcourir les données audio par fenêtres glissantes\n",
    "    for start in range(0, total_samples - window_size, hop_length):\n",
    "        window = y[start:start + window_size]\n",
    "        \n",
    "        # Appliquer la FFT\n",
    "        fft_result = np.fft.fft(window)\n",
    "        \n",
    "        # Calculer la fréquence associée à chaque indice de la FFT\n",
    "        freqs = np.fft.fftfreq(window_size, d=1/sr)\n",
    "        \n",
    "        # Prendre seulement les fréquences positives\n",
    "        positive_freqs = freqs[:window_size // 2]\n",
    "        positive_fft = np.abs(fft_result[:window_size // 2])\n",
    "        \n",
    "        # Trouver l'indice de la fréquence dominante\n",
    "        dominant_freq = positive_freqs[np.argmax(positive_fft)]\n",
    "        dominant_freqs.append(dominant_freq)\n",
    "    \n",
    "    return dominant_freqs\n",
    "\n",
    "def process_directory():\n",
    "    \"\"\"\n",
    "    Parcourt tous les fichiers MP3 du dossier et génère les CSV avec des valeurs toutes les 10ms\n",
    "    \"\"\"\n",
    "    for file in os.listdir('.'):\n",
    "        if file.endswith('.mp3'):\n",
    "            print(f\"Traitement de {file}...\")\n",
    "            freqs = extract_frequencies(file)\n",
    "            \n",
    "            # Supprimer une valeur sur deux pour obtenir un taux de 10 ms\n",
    "            reduced_freqs = freqs[::2]\n",
    "            \n",
    "            csv_filename = file.replace('.mp3', '.csv')\n",
    "            df = pd.DataFrame(reduced_freqs)\n",
    "            df.to_csv(csv_filename, index=False, header=False)\n",
    "            print(f\"Fichier sauvegardé : {csv_filename}\")\n",
    "\n",
    "if __name__ == \"__main__\":\n",
    "    process_directory()"
   ]
  }
 ],
 "metadata": {
  "kernelspec": {
   "display_name": "Python 3",
   "language": "python",
   "name": "python3"
  },
  "language_info": {
   "codemirror_mode": {
    "name": "ipython",
    "version": 3
   },
   "file_extension": ".py",
   "mimetype": "text/x-python",
   "name": "python",
   "nbconvert_exporter": "python",
   "pygments_lexer": "ipython3",
   "version": "3.13.0"
  }
 },
 "nbformat": 4,
 "nbformat_minor": 2
}

   "pygments_lexer": "ipython3",
   "version": "3.13.0"
  }
 },
 "nbformat": 4,
 "nbformat_minor": 2
}
"pygments_lexer": "ipython3",
   "version": "3.13.0"
  }
 },
 "nbformat": 4,
 "nbformat_minor": 2
}
s_lexer": "ipython3",
   "version": "3.13.0"
  }
 },
 "nbformat": 4,
 "nbformat_minor": 2
}
 "pygments_lexer": "ipython3",
   "version": "3.13.0"
  }
 },
 "nbformat": 4,
 "nbformat_minor": 2
}
 "pygments_lexer": "ipython3",
   "version": "3.13.0"
  }
 },
 "nbformat": 4,
 "nbformat_minor": 2
}
 "pygments_lexer": "ipython3",
   "version": "3.13.0"
  }
 },
 "nbformat": 4,
 "nbformat_minor": 2
}
